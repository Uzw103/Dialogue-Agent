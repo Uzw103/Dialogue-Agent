{
 "cells": [
  {
   "cell_type": "code",
   "execution_count": 11,
   "metadata": {},
   "outputs": [],
   "source": [
    "import os\n",
    "\n",
    "lines = (i for i in open('valid_self_original_NLI.txt', 'r') if 'your persona:' not in i )\n",
    "f = open('valid_self_original_NLI_final.txt', 'w', encoding=\"utf-8\")\n",
    "f.writelines(lines)\n",
    "f.close()"
   ]
  },
  {
   "cell_type": "code",
   "execution_count": 7,
   "metadata": {},
   "outputs": [
    {
     "name": "stdout",
     "output_type": "stream",
     "text": [
      "hi , how are you doing ? i am getting ready to do some cheetah chasing to stay in shape .\n"
     ]
    }
   ],
   "source": [
    "line = '1 hi , how are you doing ? i am getting ready to do some cheetah chasing to stay in shape .\tyou must be very fast . hunting is one of my favorite hobbies .\t\tmy mom was single with 3 boys , so we never left the projects .|i try to wear all black every day . it makes me feel comfortable .|well nursing stresses you out so i wish luck with sister|yeah just want to pick up nba nfl getting old|i really like celine dion . what about you ?|no . i live near farms .|i wish i had a daughter , i am a boy mom . they are beautiful boys though still lucky|yeah when i get bored i play gone with the wind my favorite movie .|hi how are you ? i am eating dinner with my hubby and 2 kids .|were you married to your high school sweetheart ? i was .|that is great to hear ! are you a competitive rider ?|hi , i am doing ok . i am a banker . how about you ?|i am 5 years old|hi there . how are you today ?|i totally understand how stressful that can be .|yeah sometimes you do not know what you are actually watching|mother taught me to cook ! we are looking for an exterminator .|i enjoy romantic movie . what is your favorite season ? mine is summer .|editing photos takes a lot of work .|you must be very fast . hunting is one of my favorite hobbies .'\n",
    "line=line.strip()\n",
    "nid, line = line.split(' ', 1)\n",
    "# print(line)\n",
    "u, r, _, cand  = line.split('\\t') \n",
    "print(u)\n"
   ]
  },
  {
   "cell_type": "code",
   "execution_count": 73,
   "metadata": {},
   "outputs": [
    {
     "data": {
      "text/plain": [
       "['dwadwadwa', 'i bet she appreciates that very much .']"
      ]
     },
     "execution_count": 73,
     "metadata": {},
     "output_type": "execute_result"
    }
   ],
   "source": [
    "li = ['dwadwadwa', 'i bet she appreciates that very much .', 'she raised me right , i am just like her .']\n",
    "re = 'she raised me right , i am just like her .'\n",
    "li[-1] = li[-1].replace(re, '')\n",
    "li = [x.strip() for x in li if x.strip()!='']\n",
    "# a = li.pop(-1)\n",
    "li"
   ]
  },
  {
   "cell_type": "code",
   "execution_count": 131,
   "metadata": {},
   "outputs": [
    {
     "data": {
      "text/plain": [
       "['21121']"
      ]
     },
     "execution_count": 131,
     "metadata": {},
     "output_type": "execute_result"
    }
   ],
   "source": [
    "a = 'your persona: i only eat kosher.'\n",
    "\n",
    "nid, line= a.split(\": \")\n",
    "# print(nid)\n",
    "c = []\n",
    "d = []\n",
    "l = ['21121']\n",
    "a = ['535325']\n",
    "c.append(l)\n",
    "c.append(a)\n",
    "d += l\n",
    "d"
   ]
  },
  {
   "cell_type": "code",
   "execution_count": 141,
   "metadata": {},
   "outputs": [],
   "source": [
    "import pickle\n",
    "with open('train_self_original_NLI.txt', encoding='utf-8') as fin:\n",
    "    all_dialog = []\n",
    "    persona = []\n",
    "    each_dialog1 = []\n",
    "    each_dialog2 = []\n",
    "    new_response = ''\n",
    "    history = []\n",
    "    attribute = []\n",
    "    response = ''\n",
    "    for line in fin:\n",
    "        line = line.strip()\n",
    "        if '\\t' in line:\n",
    "            nid, line = line.split('\\t', 1) \n",
    "#         print(nid)\n",
    "        else:\n",
    "            nid = line\n",
    "            if 'your persona' in nid and not new_response:\n",
    "                nid, p = nid.split(\": \")\n",
    "                persona.append(p)\n",
    "                continue\n",
    "        if 'your persona' in nid and not new_response:\n",
    "#             persona.append(nid)\n",
    "            nid, p = nid.split(\": \")\n",
    "            persona.append(p)\n",
    "#             print(persona)\n",
    "            continue\n",
    "    \n",
    "        elif 'your persona' in nid and new_response:\n",
    "#             response = new_response\n",
    "#             history[-1] = history[-1].replace(response, \"\")\n",
    "#             history = [x.strip() for x in history if x.strip()!='']\n",
    "#             history.pop()\n",
    "            history.pop(-1)\n",
    "            response2 = history.pop()\n",
    "#             response2 = history.pop()\n",
    "#             attribute.pop(-1)\n",
    "#             history.pop(-1)\n",
    "#             history.pop()\n",
    "#             history\n",
    "#             history[-1] = history[-1].replace(response2, '')\n",
    "#             history = [x.strip() for x in history if x.strip()!='']\n",
    "#             print(history)\n",
    "#             nid, p = nid.split(\": \")\n",
    "#             persona.append(p)\n",
    "#             print(persona)\n",
    "            each_dialog1 = [history, response2, attribute, persona]\n",
    "#             response = history.pop(-1)\n",
    "#             print(each_dialog)\n",
    "            \n",
    "            history.append(response2)\n",
    "#             response1 = response1.append(response2)\n",
    "#             print(history)\n",
    "            each_dialog2 = [history, new_response, attribute, persona]\n",
    "#             each_dialog.append([history, new_response, attribute, persona])\n",
    "#             print(each_dialog)\n",
    "#             all_dialog += each_dialog1\n",
    "#             all_dialog += each_dialog2\n",
    "#             all_dialog.append(each_dialog1)\n",
    "            all_dialog.append(each_dialog2)\n",
    "            new_response = ''\n",
    "            each_dialog1 = []\n",
    "            each_dialog2 = []\n",
    "            history = []\n",
    "            attribute = []\n",
    "            persona = []\n",
    "            nid, p = nid.split(\": \")\n",
    "            persona.append(p)\n",
    "            continue\n",
    "        \n",
    "#         persona = []\n",
    "        if '\\t' in line:\n",
    "            u, att = line.split('\\t', 1)\n",
    "            history.append(u)\n",
    "            new_response = u\n",
    "            if '\\t' in att:\n",
    "                att, _ = att.split('\\t', 1)\n",
    "                att = att.strip('[],')\n",
    "                att = ''.join(att.split(','))\n",
    "                att = ' '.join(att.split(\"' '\"))\n",
    "                attribute.append(att)\n",
    "                continue\n",
    "            else:\n",
    "                att = att.strip('[],')\n",
    "                att = ''.join(att.split(','))\n",
    "                att = ' '.join(att.split(\"' '\"))\n",
    "                attribute.append(att)\n",
    "        else:\n",
    "            history.append(line)\n",
    "            new_response = line\n",
    "#     print(all_dialog)\n",
    "#     with open('valid_attribute.txt','w') as f:\n",
    "#         f.write(all_dialog)\n",
    "    with open('train_attribute.pickle', \"wb\") as f:\n",
    "        pickle.dump(all_dialog, f)\n",
    "#     print(each_dialog)"
   ]
  },
  {
   "cell_type": "code",
   "execution_count": 84,
   "metadata": {},
   "outputs": [
    {
     "ename": "SyntaxError",
     "evalue": "invalid syntax (<ipython-input-84-3d3c5a7cd6f3>, line 37)",
     "output_type": "error",
     "traceback": [
      "\u001b[0;36m  File \u001b[0;32m\"<ipython-input-84-3d3c5a7cd6f3>\"\u001b[0;36m, line \u001b[0;32m37\u001b[0m\n\u001b[0;31m    dial.append([\"u\":u,\"attribute\":attribute])\u001b[0m\n\u001b[0m                    ^\u001b[0m\n\u001b[0;31mSyntaxError\u001b[0m\u001b[0;31m:\u001b[0m invalid syntax\n"
     ]
    }
   ],
   "source": [
    "persona = []\n",
    "dial = []\n",
    "lock = 0\n",
    "index_dial = 0\n",
    "data = {}\n",
    "a = 0\n",
    "with open('test_self_original_NLI_final.txt', encoding='utf-8') as fin:\n",
    "    for line in fin:\n",
    "        line=line.strip()\n",
    "        nid, line = line.split('\\t', 1)  \n",
    "        if int(nid)==1:\n",
    "            persona = []\n",
    "            if '\\t' in line:\n",
    "                u, attribute = line.split(\"\\t\")\n",
    "            if(str(sorted(persona)) in data):\n",
    "                data[str(sorted(persona))].append(dial)\n",
    "            else:\n",
    "                data[str(sorted(persona))] = [dial]\n",
    "            persona = []\n",
    "            dial = []\n",
    "            lock = 0\n",
    "            index_dial = 0\n",
    "        lock = 1\n",
    "        if '\\t' in line:\n",
    "            u, attribute = line.split(\"\\t\")\n",
    "            #u是dialogue history\n",
    "            #r是response\n",
    "#                u, r, _, cand  = line.split('\\t')   \n",
    "#                cand = cand.split('|')\n",
    "                # shuffle(cand)\n",
    "#                for c in cand:\n",
    "#                    if c in cand_list:\n",
    "#                        pass\n",
    "#                    else:\n",
    "#                        cand_list[c] = 1 \n",
    "#                dial.append({\"nid\":index_dial,\"u\":u,\"r\":r,'cand':cand})\n",
    "            dial.append([\"u\":u,\"attribute\":attribute])\n",
    "            index_dial += 1\n",
    "        else:\n",
    "            if (a % 2) == 0:\n",
    "            r = line    "
   ]
  },
  {
   "cell_type": "code",
   "execution_count": null,
   "metadata": {},
   "outputs": [],
   "source": []
  }
 ],
 "metadata": {
  "kernelspec": {
   "display_name": "Python 3",
   "language": "python",
   "name": "python3"
  },
  "language_info": {
   "codemirror_mode": {
    "name": "ipython",
    "version": 3
   },
   "file_extension": ".py",
   "mimetype": "text/x-python",
   "name": "python",
   "nbconvert_exporter": "python",
   "pygments_lexer": "ipython3",
   "version": "3.8.5"
  }
 },
 "nbformat": 4,
 "nbformat_minor": 4
}
